{
 "cells": [
  {
   "cell_type": "code",
   "execution_count": null,
   "id": "a0958d08",
   "metadata": {},
   "outputs": [],
   "source": [
    "df = pd.read()"
   ]
  },
  {
   "cell_type": "code",
   "execution_count": null,
   "id": "7be90203",
   "metadata": {},
   "outputs": [],
   "source": [
    "def adequa_dataset():\n",
    "    return df_new, n_elem"
   ]
  },
  {
   "cell_type": "code",
   "execution_count": null,
   "id": "6d099d93",
   "metadata": {},
   "outputs": [],
   "source": [
    "def avalia_elemento(df, col_fi, col_fp):\n",
    "    return {'sum_d': None, 'd_max', None, 'g_de': None }"
   ]
  },
  {
   "cell_type": "code",
   "execution_count": null,
   "id": "256730d3",
   "metadata": {},
   "outputs": [],
   "source": [
    "def avalia_familia(df_new):\n",
    "\n",
    "    elemento = []\n",
    "    for i in range(1, n_elem + 1):\n",
    "        \n",
    "        col_fi = f'Fi-Elemento {i}'\n",
    "        col_fp = f'Fp-Elemento {i}'\n",
    "        dic = avalia_elemento(df, col_fi, col_fp)\n",
    "        elemento.append(dic)\n",
    "    "
   ]
  }
 ],
 "metadata": {
  "language_info": {
   "name": "python"
  }
 },
 "nbformat": 4,
 "nbformat_minor": 5
}
